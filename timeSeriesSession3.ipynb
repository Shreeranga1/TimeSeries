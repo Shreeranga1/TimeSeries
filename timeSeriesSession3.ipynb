{
  "nbformat": 4,
  "nbformat_minor": 0,
  "metadata": {
    "colab": {
      "name": "timeSeriesSession3.ipynb",
      "provenance": [],
      "collapsed_sections": [],
      "authorship_tag": "ABX9TyOlTtzNeSRhiCpqIW9O1ASG",
      "include_colab_link": true
    },
    "kernelspec": {
      "name": "python3",
      "display_name": "Python 3"
    },
    "language_info": {
      "name": "python"
    }
  },
  "cells": [
    {
      "cell_type": "markdown",
      "metadata": {
        "id": "view-in-github",
        "colab_type": "text"
      },
      "source": [
        "<a href=\"https://colab.research.google.com/github/Shreeranga1/TimeSeries/blob/main/timeSeriesSession3.ipynb\" target=\"_parent\"><img src=\"https://colab.research.google.com/assets/colab-badge.svg\" alt=\"Open In Colab\"/></a>"
      ]
    },
    {
      "cell_type": "code",
      "metadata": {
        "id": "_k-alWjmOqX_"
      },
      "source": [
        "import pandas as pd\n",
        "import numpy as np"
      ],
      "execution_count": 71,
      "outputs": []
    },
    {
      "cell_type": "code",
      "metadata": {
        "id": "jA-PZ024Pu5Z"
      },
      "source": [
        "df=pd.read_csv('https://raw.githubusercontent.com/Shreeranga1/TimeSeries/main/AirTemp.csv',parse_dates=True)"
      ],
      "execution_count": 72,
      "outputs": []
    },
    {
      "cell_type": "code",
      "metadata": {
        "colab": {
          "base_uri": "https://localhost:8080/",
          "height": 204
        },
        "id": "bQRIzAfwQL0d",
        "outputId": "ece77eca-d2af-4166-f2e8-52d6993ff839"
      },
      "source": [
        "df.tail()"
      ],
      "execution_count": 73,
      "outputs": [
        {
          "output_type": "execute_result",
          "data": {
            "text/html": [
              "<div>\n",
              "<style scoped>\n",
              "    .dataframe tbody tr th:only-of-type {\n",
              "        vertical-align: middle;\n",
              "    }\n",
              "\n",
              "    .dataframe tbody tr th {\n",
              "        vertical-align: top;\n",
              "    }\n",
              "\n",
              "    .dataframe thead th {\n",
              "        text-align: right;\n",
              "    }\n",
              "</style>\n",
              "<table border=\"1\" class=\"dataframe\">\n",
              "  <thead>\n",
              "    <tr style=\"text-align: right;\">\n",
              "      <th></th>\n",
              "      <th>Year</th>\n",
              "      <th>Month</th>\n",
              "      <th>AvgTemp</th>\n",
              "    </tr>\n",
              "  </thead>\n",
              "  <tbody>\n",
              "    <tr>\n",
              "      <th>235</th>\n",
              "      <td>1939</td>\n",
              "      <td>Aug</td>\n",
              "      <td>61.8</td>\n",
              "    </tr>\n",
              "    <tr>\n",
              "      <th>236</th>\n",
              "      <td>1939</td>\n",
              "      <td>Sep</td>\n",
              "      <td>58.2</td>\n",
              "    </tr>\n",
              "    <tr>\n",
              "      <th>237</th>\n",
              "      <td>1939</td>\n",
              "      <td>Oct</td>\n",
              "      <td>46.7</td>\n",
              "    </tr>\n",
              "    <tr>\n",
              "      <th>238</th>\n",
              "      <td>1939</td>\n",
              "      <td>Nov</td>\n",
              "      <td>46.6</td>\n",
              "    </tr>\n",
              "    <tr>\n",
              "      <th>239</th>\n",
              "      <td>1939</td>\n",
              "      <td>Dec</td>\n",
              "      <td>37.8</td>\n",
              "    </tr>\n",
              "  </tbody>\n",
              "</table>\n",
              "</div>"
            ],
            "text/plain": [
              "     Year Month  AvgTemp\n",
              "235  1939   Aug     61.8\n",
              "236  1939   Sep     58.2\n",
              "237  1939   Oct     46.7\n",
              "238  1939   Nov     46.6\n",
              "239  1939   Dec     37.8"
            ]
          },
          "metadata": {},
          "execution_count": 73
        }
      ]
    },
    {
      "cell_type": "code",
      "metadata": {
        "id": "xN4b9L0dQRKV"
      },
      "source": [
        "date_range=pd.date_range(start='1/1/1920',end='31/12/1939',freq='M')"
      ],
      "execution_count": 74,
      "outputs": []
    },
    {
      "cell_type": "code",
      "metadata": {
        "id": "ZrzOHPBEQVhU"
      },
      "source": [
        "df['TimeIndex']=date_range"
      ],
      "execution_count": 75,
      "outputs": []
    },
    {
      "cell_type": "code",
      "metadata": {
        "id": "e-hsCLkEQ81p"
      },
      "source": [
        "df.drop(columns=['Year','Month'],axis=1,inplace=True)"
      ],
      "execution_count": 76,
      "outputs": []
    },
    {
      "cell_type": "code",
      "metadata": {
        "id": "wUBZ35wnRJ-B"
      },
      "source": [
        "df.set_index(df.TimeIndex,inplace=True)"
      ],
      "execution_count": 77,
      "outputs": []
    },
    {
      "cell_type": "code",
      "metadata": {
        "id": "I8brmHjqRVPI"
      },
      "source": [
        "df.drop(columns=['TimeIndex'],inplace=True)"
      ],
      "execution_count": 78,
      "outputs": []
    },
    {
      "cell_type": "code",
      "metadata": {
        "colab": {
          "base_uri": "https://localhost:8080/",
          "height": 235
        },
        "id": "bF9m2VkMRlHS",
        "outputId": "b9c5d92d-5c8d-4509-cb21-248a6d5adad2"
      },
      "source": [
        "df.head()"
      ],
      "execution_count": 79,
      "outputs": [
        {
          "output_type": "execute_result",
          "data": {
            "text/html": [
              "<div>\n",
              "<style scoped>\n",
              "    .dataframe tbody tr th:only-of-type {\n",
              "        vertical-align: middle;\n",
              "    }\n",
              "\n",
              "    .dataframe tbody tr th {\n",
              "        vertical-align: top;\n",
              "    }\n",
              "\n",
              "    .dataframe thead th {\n",
              "        text-align: right;\n",
              "    }\n",
              "</style>\n",
              "<table border=\"1\" class=\"dataframe\">\n",
              "  <thead>\n",
              "    <tr style=\"text-align: right;\">\n",
              "      <th></th>\n",
              "      <th>AvgTemp</th>\n",
              "    </tr>\n",
              "    <tr>\n",
              "      <th>TimeIndex</th>\n",
              "      <th></th>\n",
              "    </tr>\n",
              "  </thead>\n",
              "  <tbody>\n",
              "    <tr>\n",
              "      <th>1920-01-31</th>\n",
              "      <td>40.6</td>\n",
              "    </tr>\n",
              "    <tr>\n",
              "      <th>1920-02-29</th>\n",
              "      <td>40.8</td>\n",
              "    </tr>\n",
              "    <tr>\n",
              "      <th>1920-03-31</th>\n",
              "      <td>44.4</td>\n",
              "    </tr>\n",
              "    <tr>\n",
              "      <th>1920-04-30</th>\n",
              "      <td>46.7</td>\n",
              "    </tr>\n",
              "    <tr>\n",
              "      <th>1920-05-31</th>\n",
              "      <td>54.1</td>\n",
              "    </tr>\n",
              "  </tbody>\n",
              "</table>\n",
              "</div>"
            ],
            "text/plain": [
              "            AvgTemp\n",
              "TimeIndex          \n",
              "1920-01-31     40.6\n",
              "1920-02-29     40.8\n",
              "1920-03-31     44.4\n",
              "1920-04-30     46.7\n",
              "1920-05-31     54.1"
            ]
          },
          "metadata": {},
          "execution_count": 79
        }
      ]
    },
    {
      "cell_type": "code",
      "metadata": {
        "colab": {
          "base_uri": "https://localhost:8080/",
          "height": 296
        },
        "id": "2rlhiqfZRmbS",
        "outputId": "7b046600-d541-4c25-dcc9-a21c8982eaf4"
      },
      "source": [
        "df.plot()"
      ],
      "execution_count": 80,
      "outputs": [
        {
          "output_type": "execute_result",
          "data": {
            "text/plain": [
              "<matplotlib.axes._subplots.AxesSubplot at 0x7f5d9f8a55d0>"
            ]
          },
          "metadata": {},
          "execution_count": 80
        },
        {
          "output_type": "display_data",
          "data": {
            "image/png": "[encoded data removed]",
            "text/plain": [
              "<Figure size 432x288 with 1 Axes>"
            ]
          },
          "metadata": {
            "needs_background": "light"
          }
        }
      ]
    },
    {
      "cell_type": "code",
      "metadata": {
        "id": "CvFiM-M-WjU0"
      },
      "source": [
        ""
      ],
      "execution_count": 80,
      "outputs": []
    },
    {
      "cell_type": "markdown",
      "metadata": {
        "id": "AauL0ASsR-_q"
      },
      "source": [
        "# Check the stationarity"
      ]
    },
    {
      "cell_type": "code",
      "metadata": {
        "id": "pK4WkmlBR52e"
      },
      "source": [
        "observations=df.values"
      ],
      "execution_count": 81,
      "outputs": []
    },
    {
      "cell_type": "code",
      "metadata": {
        "id": "cmjc6aJ7SEl9"
      },
      "source": [
        "from statsmodels.tsa.stattools         import  adfuller"
      ],
      "execution_count": 82,
      "outputs": []
    },
    {
      "cell_type": "code",
      "metadata": {
        "id": "KCYLyKQJSHxF"
      },
      "source": [
        "observations= df.values\n",
        "test_result = adfuller(df.AvgTemp)"
      ],
      "execution_count": 83,
      "outputs": []
    },
    {
      "cell_type": "code",
      "metadata": {
        "colab": {
          "base_uri": "https://localhost:8080/"
        },
        "id": "Dq8YA2wuSYU1",
        "outputId": "6dc5b68e-0706-4aaa-9305-08ef66b93372"
      },
      "source": [
        "test_result[1]<0.05"
      ],
      "execution_count": 84,
      "outputs": [
        {
          "output_type": "execute_result",
          "data": {
            "text/plain": [
              "True"
            ]
          },
          "metadata": {},
          "execution_count": 84
        }
      ]
    },
    {
      "cell_type": "markdown",
      "metadata": {
        "id": "5AiMIXRnS_Tn"
      },
      "source": [
        "## ACF and PACF"
      ]
    },
    {
      "cell_type": "code",
      "metadata": {
        "id": "8PQntDzuSqzk"
      },
      "source": [
        "from statsmodels.tsa.stattools         import  pacf\n",
        "from statsmodels.tsa.stattools         import  acf\n",
        "from statsmodels.graphics.tsaplots     import  plot_pacf\n",
        "from statsmodels.graphics.tsaplots     import  plot_acf"
      ],
      "execution_count": 85,
      "outputs": []
    },
    {
      "cell_type": "code",
      "metadata": {
        "colab": {
          "base_uri": "https://localhost:8080/",
          "height": 545
        },
        "id": "eCERT5RbTDbK",
        "outputId": "8bd23b0d-d2a6-479a-c1b6-2597c8c204ed"
      },
      "source": [
        "plot_acf(df,lags=30)"
      ],
      "execution_count": 86,
      "outputs": [
        {
          "output_type": "execute_result",
          "data": {
            "image/png": "[encoded data removed]",
            "text/plain": [
              "<Figure size 432x288 with 1 Axes>"
            ]
          },
          "metadata": {},
          "execution_count": 86
        },
        {
          "output_type": "display_data",
          "data": {
            "image/png": "[encoded data removed]",
            "text/plain": [
              "<Figure size 432x288 with 1 Axes>"
            ]
          },
          "metadata": {
            "needs_background": "light"
          }
        }
      ]
    },
    {
      "cell_type": "code",
      "metadata": {
        "colab": {
          "base_uri": "https://localhost:8080/",
          "height": 315
        },
        "id": "CRJJzyk2TNWS",
        "outputId": "8d295099-edad-45be-c653-c89e47f79eb2"
      },
      "source": [
        "plot_pacf(df,lags=30);"
      ],
      "execution_count": 87,
      "outputs": [
        {
          "output_type": "stream",
          "name": "stderr",
          "text": [
            "/usr/local/lib/python3.7/dist-packages/statsmodels/regression/linear_model.py:1358: RuntimeWarning: invalid value encountered in sqrt\n",
            "  return rho, np.sqrt(sigmasq)\n"
          ]
        },
        {
          "output_type": "display_data",
          "data": {
            "image/png": "[encoded data removed]",
            "text/plain": [
              "<Figure size 432x288 with 1 Axes>"
            ]
          },
          "metadata": {
            "needs_background": "light"
          }
        }
      ]
    },
    {
      "cell_type": "markdown",
      "metadata": {
        "id": "NGqRmxDGTZwF"
      },
      "source": [
        "Split the data into train and test "
      ]
    },
    {
      "cell_type": "code",
      "metadata": {
        "id": "aGLW1SQRTU7Z"
      },
      "source": [
        "from   datetime                        import  datetime, timedelta"
      ],
      "execution_count": 88,
      "outputs": []
    },
    {
      "cell_type": "code",
      "metadata": {
        "id": "8FKBQK23TmH5"
      },
      "source": [
        "train_end=datetime(1935,12,31)\n",
        "test_end=datetime(1939,12,31)"
      ],
      "execution_count": 89,
      "outputs": []
    },
    {
      "cell_type": "code",
      "metadata": {
        "id": "6tW_S7jeUCo_"
      },
      "source": [
        "train             = df[:train_end] \n",
        "test              = df[train_end + timedelta(days=1):test_end]"
      ],
      "execution_count": 90,
      "outputs": []
    },
    {
      "cell_type": "code",
      "metadata": {
        "id": "ei9wM5-HVzvl"
      },
      "source": [
        ""
      ],
      "execution_count": 90,
      "outputs": []
    },
    {
      "cell_type": "markdown",
      "metadata": {
        "id": "qIbOLH1LURKM"
      },
      "source": [
        "# Build ARMA"
      ]
    },
    {
      "cell_type": "code",
      "metadata": {
        "id": "mLsuunjkUMl6"
      },
      "source": [
        "from statsmodels.tsa.arima_model import ARMA"
      ],
      "execution_count": 91,
      "outputs": []
    },
    {
      "cell_type": "code",
      "metadata": {
        "id": "_8c_mTtPW_1h"
      },
      "source": [
        ""
      ],
      "execution_count": 91,
      "outputs": []
    },
    {
      "cell_type": "code",
      "metadata": {
        "colab": {
          "base_uri": "https://localhost:8080/"
        },
        "id": "LyHaTGtEU0NF",
        "outputId": "9621b4b5-ce14-4b6f-cffc-b66f2be359c1"
      },
      "source": [
        "model=ARMA(train,(2,3))"
      ],
      "execution_count": 92,
      "outputs": [
        {
          "output_type": "stream",
          "name": "stderr",
          "text": [
            "/usr/local/lib/python3.7/dist-packages/statsmodels/tsa/base/tsa_model.py:165: ValueWarning: No frequency information was provided, so inferred frequency M will be used.\n",
            "  % freq, ValueWarning)\n"
          ]
        }
      ]
    },
    {
      "cell_type": "markdown",
      "metadata": {
        "id": "7ESnXkg6Y4SG"
      },
      "source": [
        "# Predictons"
      ]
    },
    {
      "cell_type": "code",
      "metadata": {
        "id": "cXf1ROHfVPM7"
      },
      "source": [
        "pred_start=test.index[0]\n",
        "pred_end=test.index[-1]"
      ],
      "execution_count": 94,
      "outputs": []
    },
    {
      "cell_type": "code",
      "metadata": {
        "id": "nE4URBQiVjii"
      },
      "source": [
        "predictions=model_fit.predict(start=pred_start, end=pred_end)\n"
      ],
      "execution_count": null,
      "outputs": []
    }
  ]
}