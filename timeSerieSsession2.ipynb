{
  "nbformat": 4,
  "nbformat_minor": 0,
  "metadata": {
    "colab": {
      "name": "timeSerieSsession2.ipynb",
      "provenance": [],
      "collapsed_sections": [],
      "authorship_tag": "ABX9TyOPzfrJ6Hf42TCHMfgLdxTi",
      "include_colab_link": true
    },
    "kernelspec": {
      "name": "python3",
      "display_name": "Python 3"
    },
    "language_info": {
      "name": "python"
    }
  },
  "cells": [
    {
      "cell_type": "markdown",
      "metadata": {
        "id": "view-in-github",
        "colab_type": "text"
      },
      "source": [
        "<a href=\"https://colab.research.google.com/github/Shreeranga1/TimeSeries/blob/main/timeSerieSsession2.ipynb\" target=\"_parent\"><img src=\"https://colab.research.google.com/assets/colab-badge.svg\" alt=\"Open In Colab\"/></a>"
      ]
    },
    {
      "cell_type": "code",
      "metadata": {
        "id": "H8KLtKjGAEMn"
      },
      "source": [
        "import pandas as pd\n",
        "import numpy as np"
      ],
      "execution_count": 3,
      "outputs": []
    },
    {
      "cell_type": "code",
      "metadata": {
        "colab": {
          "base_uri": "https://localhost:8080/",
          "height": 204
        },
        "id": "SwiW5Mw0AXLX",
        "outputId": "bcd3eabb-c55d-4142-937c-c108a7e78d86"
      },
      "source": [
        "df=pd.read_csv('https://raw.githubusercontent.com/Shreeranga1/TimeSeries/main/RetailTurnover.csv')\n",
        "df.head()"
      ],
      "execution_count": 4,
      "outputs": [
        {
          "output_type": "execute_result",
          "data": {
            "text/html": [
              "<div>\n",
              "<style scoped>\n",
              "    .dataframe tbody tr th:only-of-type {\n",
              "        vertical-align: middle;\n",
              "    }\n",
              "\n",
              "    .dataframe tbody tr th {\n",
              "        vertical-align: top;\n",
              "    }\n",
              "\n",
              "    .dataframe thead th {\n",
              "        text-align: right;\n",
              "    }\n",
              "</style>\n",
              "<table border=\"1\" class=\"dataframe\">\n",
              "  <thead>\n",
              "    <tr style=\"text-align: right;\">\n",
              "      <th></th>\n",
              "      <th>Year</th>\n",
              "      <th>Quarter</th>\n",
              "      <th>Turnover</th>\n",
              "    </tr>\n",
              "  </thead>\n",
              "  <tbody>\n",
              "    <tr>\n",
              "      <th>0</th>\n",
              "      <td>1982</td>\n",
              "      <td>Q3</td>\n",
              "      <td>13423.2</td>\n",
              "    </tr>\n",
              "    <tr>\n",
              "      <th>1</th>\n",
              "      <td>1982</td>\n",
              "      <td>Q4</td>\n",
              "      <td>13128.8</td>\n",
              "    </tr>\n",
              "    <tr>\n",
              "      <th>2</th>\n",
              "      <td>1983</td>\n",
              "      <td>Q1</td>\n",
              "      <td>15398.8</td>\n",
              "    </tr>\n",
              "    <tr>\n",
              "      <th>3</th>\n",
              "      <td>1983</td>\n",
              "      <td>Q2</td>\n",
              "      <td>12964.2</td>\n",
              "    </tr>\n",
              "    <tr>\n",
              "      <th>4</th>\n",
              "      <td>1983</td>\n",
              "      <td>Q3</td>\n",
              "      <td>13133.5</td>\n",
              "    </tr>\n",
              "  </tbody>\n",
              "</table>\n",
              "</div>"
            ],
            "text/plain": [
              "   Year Quarter  Turnover\n",
              "0  1982      Q3   13423.2\n",
              "1  1982      Q4   13128.8\n",
              "2  1983      Q1   15398.8\n",
              "3  1983      Q2   12964.2\n",
              "4  1983      Q3   13133.5"
            ]
          },
          "metadata": {},
          "execution_count": 4
        }
      ]
    },
    {
      "cell_type": "code",
      "metadata": {
        "colab": {
          "base_uri": "https://localhost:8080/"
        },
        "id": "x7NZ4ifBAvrq",
        "outputId": "541c022c-4a99-4030-ed80-1aba324d7231"
      },
      "source": [
        "df.Year.sort_values"
      ],
      "execution_count": 5,
      "outputs": [
        {
          "output_type": "execute_result",
          "data": {
            "text/plain": [
              "<bound method Series.sort_values of 0     1982\n",
              "1     1982\n",
              "2     1983\n",
              "3     1983\n",
              "4     1983\n",
              "5     1983\n",
              "6     1984\n",
              "7     1984\n",
              "8     1984\n",
              "9     1984\n",
              "10    1985\n",
              "11    1985\n",
              "12    1985\n",
              "13    1985\n",
              "14    1986\n",
              "15    1986\n",
              "16    1986\n",
              "17    1986\n",
              "18    1987\n",
              "19    1987\n",
              "20    1987\n",
              "21    1987\n",
              "22    1988\n",
              "23    1988\n",
              "24    1988\n",
              "25    1988\n",
              "26    1989\n",
              "27    1989\n",
              "28    1989\n",
              "29    1989\n",
              "30    1990\n",
              "31    1990\n",
              "32    1990\n",
              "33    1990\n",
              "34    1991\n",
              "35    1991\n",
              "36    1991\n",
              "37    1991\n",
              "38    1992\n",
              "Name: Year, dtype: int64>"
            ]
          },
          "metadata": {},
          "execution_count": 5
        }
      ]
    },
    {
      "cell_type": "code",
      "metadata": {
        "id": "ua4OyvC2Ajou"
      },
      "source": [
        "quaters=pd.date_range(start='1/7/1982',end='31/3/1992',freq='Q')"
      ],
      "execution_count": 6,
      "outputs": []
    },
    {
      "cell_type": "code",
      "metadata": {
        "colab": {
          "base_uri": "https://localhost:8080/"
        },
        "id": "jKOF4kOABGoa",
        "outputId": "6fd56261-3f80-4fbb-cff5-eda9559d2f51"
      },
      "source": [
        "quaters"
      ],
      "execution_count": 7,
      "outputs": [
        {
          "output_type": "execute_result",
          "data": {
            "text/plain": [
              "DatetimeIndex(['1982-03-31', '1982-06-30', '1982-09-30', '1982-12-31',\n",
              "               '1983-03-31', '1983-06-30', '1983-09-30', '1983-12-31',\n",
              "               '1984-03-31', '1984-06-30', '1984-09-30', '1984-12-31',\n",
              "               '1985-03-31', '1985-06-30', '1985-09-30', '1985-12-31',\n",
              "               '1986-03-31', '1986-06-30', '1986-09-30', '1986-12-31',\n",
              "               '1987-03-31', '1987-06-30', '1987-09-30', '1987-12-31',\n",
              "               '1988-03-31', '1988-06-30', '1988-09-30', '1988-12-31',\n",
              "               '1989-03-31', '1989-06-30', '1989-09-30', '1989-12-31',\n",
              "               '1990-03-31', '1990-06-30', '1990-09-30', '1990-12-31',\n",
              "               '1991-03-31', '1991-06-30', '1991-09-30', '1991-12-31',\n",
              "               '1992-03-31'],\n",
              "              dtype='datetime64[ns]', freq='Q-DEC')"
            ]
          },
          "metadata": {},
          "execution_count": 7
        }
      ]
    },
    {
      "cell_type": "code",
      "metadata": {
        "id": "p2I5MDRPBIa9"
      },
      "source": [
        "df['Time_stamp']=pd.DataFrame(quaters)\n",
        "df.drop(columns=['Year','Quarter'],axis=1,inplace=True)\n"
      ],
      "execution_count": 8,
      "outputs": []
    },
    {
      "cell_type": "code",
      "metadata": {
        "id": "UP5UZfLXBiU_"
      },
      "source": [
        "df.set_index('Time_stamp',inplace=True)"
      ],
      "execution_count": 9,
      "outputs": []
    },
    {
      "cell_type": "code",
      "metadata": {
        "colab": {
          "base_uri": "https://localhost:8080/",
          "height": 297
        },
        "id": "ABGf_tP8B2ca",
        "outputId": "0c9aaa05-bf0b-4c4f-f602-a320d295259d"
      },
      "source": [
        "df.plot()"
      ],
      "execution_count": 10,
      "outputs": [
        {
          "output_type": "execute_result",
          "data": {
            "text/plain": [
              "<matplotlib.axes._subplots.AxesSubplot at 0x7f84d35b8290>"
            ]
          },
          "metadata": {},
          "execution_count": 10
        },
        {
          "output_type": "display_data",
          "data": {
            "image/png": "[encoded data removed]",
            "text/plain": [
              "<Figure size 432x288 with 1 Axes>"
            ]
          },
          "metadata": {
            "needs_background": "light"
          }
        }
      ]
    },
    {
      "cell_type": "code",
      "metadata": {
        "colab": {
          "base_uri": "https://localhost:8080/",
          "height": 510
        },
        "id": "nZNgLRCaDwEE",
        "outputId": "283ba7a3-d4a7-49a8-c167-16da50e113f1"
      },
      "source": [
        "pip install git+https://github.com/statsmodels/statsmodels.git"
      ],
      "execution_count": 28,
      "outputs": [
        {
          "output_type": "stream",
          "name": "stdout",
          "text": [
            "Collecting git+https://github.com/statsmodels/statsmodels.git\n",
            "  Cloning https://github.com/statsmodels/statsmodels.git to /tmp/pip-req-build-6v_zs4r2\n",
            "  Running command git clone -q https://github.com/statsmodels/statsmodels.git /tmp/pip-req-build-6v_zs4r2\n",
            "  Installing build dependencies ... \u001b[?25l\u001b[?25hdone\n",
            "  Getting requirements to build wheel ... \u001b[?25l\u001b[?25hdone\n",
            "    Preparing wheel metadata ... \u001b[?25l\u001b[?25hdone\n",
            "Requirement already satisfied: scipy>=1.3 in /usr/local/lib/python3.7/dist-packages (from statsmodels==0.14.0.dev0+10.g6cf1e09ef) (1.4.1)\n",
            "Requirement already satisfied: patsy>=0.5.2 in /usr/local/lib/python3.7/dist-packages (from statsmodels==0.14.0.dev0+10.g6cf1e09ef) (0.5.2)\n",
            "Requirement already satisfied: numpy>=1.17 in /usr/local/lib/python3.7/dist-packages (from statsmodels==0.14.0.dev0+10.g6cf1e09ef) (1.19.5)\n",
            "Requirement already satisfied: pandas>=0.25 in /usr/local/lib/python3.7/dist-packages (from statsmodels==0.14.0.dev0+10.g6cf1e09ef) (1.1.5)\n",
            "Requirement already satisfied: pytz>=2017.2 in /usr/local/lib/python3.7/dist-packages (from pandas>=0.25->statsmodels==0.14.0.dev0+10.g6cf1e09ef) (2018.9)\n",
            "Requirement already satisfied: python-dateutil>=2.7.3 in /usr/local/lib/python3.7/dist-packages (from pandas>=0.25->statsmodels==0.14.0.dev0+10.g6cf1e09ef) (2.8.2)\n",
            "Requirement already satisfied: six in /usr/local/lib/python3.7/dist-packages (from patsy>=0.5.2->statsmodels==0.14.0.dev0+10.g6cf1e09ef) (1.15.0)\n",
            "Building wheels for collected packages: statsmodels\n",
            "  Building wheel for statsmodels (PEP 517) ... \u001b[?25l\u001b[?25hdone\n",
            "  Created wheel for statsmodels: filename=statsmodels-0.14.0.dev0+10.g6cf1e09ef-cp37-cp37m-linux_x86_64.whl size=17840569 sha256=af01f21a0803e18446a27dce9e6d769848f6dacf42d4ac2e33733478477ebcfd\n",
            "  Stored in directory: /tmp/pip-ephem-wheel-cache-bbq7tsik/wheels/5c/ab/d8/d9505a18dd992621edd24cfddb9a1bd694dee85c065c0a6e57\n",
            "Successfully built statsmodels\n",
            "Installing collected packages: statsmodels\n",
            "  Attempting uninstall: statsmodels\n",
            "    Found existing installation: statsmodels 0.10.2\n",
            "    Uninstalling statsmodels-0.10.2:\n",
            "      Successfully uninstalled statsmodels-0.10.2\n",
            "Successfully installed statsmodels-0.14.0.dev0+10.g6cf1e09ef\n"
          ]
        },
        {
          "output_type": "display_data",
          "data": {
            "application/vnd.colab-display-data+json": {
              "pip_warning": {
                "packages": [
                  "statsmodels"
                ]
              }
            }
          },
          "metadata": {}
        }
      ]
    },
    {
      "cell_type": "code",
      "metadata": {
        "id": "34asHzIMB9Va"
      },
      "source": [
        "from statsmodels.tsa.seasonal import seasonal_decompose, STL"
      ],
      "execution_count": 11,
      "outputs": []
    },
    {
      "cell_type": "code",
      "metadata": {
        "colab": {
          "base_uri": "https://localhost:8080/",
          "height": 577
        },
        "id": "Re4HTaSeC8Qx",
        "outputId": "492670fa-c43a-4985-e2b7-eec9f20a8196"
      },
      "source": [
        "seasonal_decompose(df,model='multiplicative').plot()"
      ],
      "execution_count": 12,
      "outputs": [
        {
          "output_type": "execute_result",
          "data": {
            "image/png": "[encoded data removed]",
            "text/plain": [
              "<Figure size 432x288 with 4 Axes>"
            ]
          },
          "metadata": {},
          "execution_count": 12
        },
        {
          "output_type": "display_data",
          "data": {
            "image/png": "[encoded data removed]",
            "text/plain": [
              "<Figure size 432x288 with 4 Axes>"
            ]
          },
          "metadata": {
            "needs_background": "light"
          }
        }
      ]
    },
    {
      "cell_type": "code",
      "metadata": {
        "colab": {
          "base_uri": "https://localhost:8080/",
          "height": 235
        },
        "id": "sPzaoxQPDS3l",
        "outputId": "51b66f5c-5afc-4a17-ec93-d480c25d4cbe"
      },
      "source": [
        "df.head()"
      ],
      "execution_count": 13,
      "outputs": [
        {
          "output_type": "execute_result",
          "data": {
            "text/html": [
              "<div>\n",
              "<style scoped>\n",
              "    .dataframe tbody tr th:only-of-type {\n",
              "        vertical-align: middle;\n",
              "    }\n",
              "\n",
              "    .dataframe tbody tr th {\n",
              "        vertical-align: top;\n",
              "    }\n",
              "\n",
              "    .dataframe thead th {\n",
              "        text-align: right;\n",
              "    }\n",
              "</style>\n",
              "<table border=\"1\" class=\"dataframe\">\n",
              "  <thead>\n",
              "    <tr style=\"text-align: right;\">\n",
              "      <th></th>\n",
              "      <th>Turnover</th>\n",
              "    </tr>\n",
              "    <tr>\n",
              "      <th>Time_stamp</th>\n",
              "      <th></th>\n",
              "    </tr>\n",
              "  </thead>\n",
              "  <tbody>\n",
              "    <tr>\n",
              "      <th>1982-03-31</th>\n",
              "      <td>13423.2</td>\n",
              "    </tr>\n",
              "    <tr>\n",
              "      <th>1982-06-30</th>\n",
              "      <td>13128.8</td>\n",
              "    </tr>\n",
              "    <tr>\n",
              "      <th>1982-09-30</th>\n",
              "      <td>15398.8</td>\n",
              "    </tr>\n",
              "    <tr>\n",
              "      <th>1982-12-31</th>\n",
              "      <td>12964.2</td>\n",
              "    </tr>\n",
              "    <tr>\n",
              "      <th>1983-03-31</th>\n",
              "      <td>13133.5</td>\n",
              "    </tr>\n",
              "  </tbody>\n",
              "</table>\n",
              "</div>"
            ],
            "text/plain": [
              "            Turnover\n",
              "Time_stamp          \n",
              "1982-03-31   13423.2\n",
              "1982-06-30   13128.8\n",
              "1982-09-30   15398.8\n",
              "1982-12-31   12964.2\n",
              "1983-03-31   13133.5"
            ]
          },
          "metadata": {},
          "execution_count": 13
        }
      ]
    },
    {
      "cell_type": "code",
      "metadata": {
        "id": "i45mO-lFF1aa"
      },
      "source": [
        "from datetime import datetime,timedelta"
      ],
      "execution_count": 22,
      "outputs": []
    },
    {
      "cell_type": "code",
      "metadata": {
        "id": "lgHG5-HjFk6n"
      },
      "source": [
        "train_end=datetime(1988,9,30)\n",
        "test_end=datetime(1991,9,30)"
      ],
      "execution_count": 18,
      "outputs": []
    },
    {
      "cell_type": "code",
      "metadata": {
        "id": "c4GpjSKhFzt2"
      },
      "source": [
        "train =df[:train_end]\n",
        "test = df[train_end+timedelta(days=1):test_end]"
      ],
      "execution_count": 24,
      "outputs": []
    },
    {
      "cell_type": "code",
      "metadata": {
        "id": "mW27dDATGSGU"
      },
      "source": [
        ""
      ],
      "execution_count": 24,
      "outputs": []
    },
    {
      "cell_type": "code",
      "metadata": {
        "id": "B98nZAzRGVCL"
      },
      "source": [
        "from statsmodels.tsa.api import ExponentialSmoothing,SimpleExpSmoothing,Holt"
      ],
      "execution_count": 26,
      "outputs": []
    },
    {
      "cell_type": "code",
      "metadata": {
        "colab": {
          "base_uri": "https://localhost:8080/"
        },
        "id": "8-9XtJG5LHex",
        "outputId": "f95e6a80-8bc3-4a49-e3df-b6951395c0c3"
      },
      "source": [
        "model_TES =ExponentialSmoothing(train,trend='multiplicative',seasonal='additive',initialization_method='estimated')"
      ],
      "execution_count": 28,
      "outputs": [
        {
          "output_type": "stream",
          "name": "stderr",
          "text": [
            "/usr/local/lib/python3.7/dist-packages/statsmodels/tsa/base/tsa_model.py:539: ValueWarning: No frequency information was provided, so inferred frequency Q-DEC will be used.\n",
            "  % freq, ValueWarning)\n"
          ]
        }
      ]
    },
    {
      "cell_type": "code",
      "metadata": {
        "id": "Jeh96D0_LkH6"
      },
      "source": [
        "model_tes=model_TES.fit(optimized=True)"
      ],
      "execution_count": 29,
      "outputs": []
    },
    {
      "cell_type": "code",
      "metadata": {
        "colab": {
          "base_uri": "https://localhost:8080/",
          "height": 416
        },
        "id": "5tDNU7rFL2ra",
        "outputId": "b9e09d8d-fec9-49e0-f08e-2de796a0c7bf"
      },
      "source": [
        "model_tes.summary()"
      ],
      "execution_count": 30,
      "outputs": [
        {
          "output_type": "execute_result",
          "data": {
            "text/html": [
              "<table class=\"simpletable\">\n",
              "<caption>ExponentialSmoothing Model Results</caption>\n",
              "<tr>\n",
              "  <th>Dep. Variable:</th>          <td>Turnover</td>       <th>  No. Observations:  </th>        <td>27</td>       \n",
              "</tr>\n",
              "<tr>\n",
              "  <th>Model:</th>            <td>ExponentialSmoothing</td> <th>  SSE                </th>    <td>890121.097</td>   \n",
              "</tr>\n",
              "<tr>\n",
              "  <th>Optimized:</th>                <td>True</td>         <th>  AIC                </th>      <td>296.888</td>    \n",
              "</tr>\n",
              "<tr>\n",
              "  <th>Trend:</th>               <td>Multiplicative</td>    <th>  BIC                </th>      <td>307.255</td>    \n",
              "</tr>\n",
              "<tr>\n",
              "  <th>Seasonal:</th>               <td>Additive</td>       <th>  AICC               </th>      <td>310.638</td>    \n",
              "</tr>\n",
              "<tr>\n",
              "  <th>Seasonal Periods:</th>           <td>4</td>          <th>  Date:              </th> <td>Fri, 15 Oct 2021</td>\n",
              "</tr>\n",
              "<tr>\n",
              "  <th>Box-Cox:</th>                  <td>False</td>        <th>  Time:              </th>     <td>18:21:07</td>    \n",
              "</tr>\n",
              "<tr>\n",
              "  <th>Box-Cox Coeff.:</th>           <td>None</td>         <th>                     </th>         <td> </td>       \n",
              "</tr>\n",
              "</table>\n",
              "<table class=\"simpletable\">\n",
              "<tr>\n",
              "           <td></td>                  <th>coeff</th>                <th>code</th>               <th>optimized</th>     \n",
              "</tr>\n",
              "<tr>\n",
              "  <th>smoothing_level</th>    <td>           0.6060714</td> <td>               alpha</td> <td>                True</td>\n",
              "</tr>\n",
              "<tr>\n",
              "  <th>smoothing_trend</th>    <td>              0.0001</td> <td>                beta</td> <td>                True</td>\n",
              "</tr>\n",
              "<tr>\n",
              "  <th>smoothing_seasonal</th> <td>              0.0001</td> <td>               gamma</td> <td>                True</td>\n",
              "</tr>\n",
              "<tr>\n",
              "  <th>initial_level</th>      <td>           13552.648</td> <td>                 l.0</td> <td>                True</td>\n",
              "</tr>\n",
              "<tr>\n",
              "  <th>initial_trend</th>      <td>           1.0040575</td> <td>                 b.0</td> <td>                True</td>\n",
              "</tr>\n",
              "<tr>\n",
              "  <th>initial_seasons.0</th>  <td>          -472.88437</td> <td>                 s.0</td> <td>                True</td>\n",
              "</tr>\n",
              "<tr>\n",
              "  <th>initial_seasons.1</th>  <td>          -514.48750</td> <td>                 s.1</td> <td>                True</td>\n",
              "</tr>\n",
              "<tr>\n",
              "  <th>initial_seasons.2</th>  <td>           1842.7062</td> <td>                 s.2</td> <td>                True</td>\n",
              "</tr>\n",
              "<tr>\n",
              "  <th>initial_seasons.3</th>  <td>          -855.33437</td> <td>                 s.3</td> <td>                True</td>\n",
              "</tr>\n",
              "</table>"
            ],
            "text/plain": [
              "<class 'statsmodels.iolib.summary.Summary'>\n",
              "\"\"\"\n",
              "                       ExponentialSmoothing Model Results                       \n",
              "================================================================================\n",
              "Dep. Variable:                 Turnover   No. Observations:                   27\n",
              "Model:             ExponentialSmoothing   SSE                         890121.097\n",
              "Optimized:                         True   AIC                            296.888\n",
              "Trend:                   Multiplicative   BIC                            307.255\n",
              "Seasonal:                      Additive   AICC                           310.638\n",
              "Seasonal Periods:                     4   Date:                 Fri, 15 Oct 2021\n",
              "Box-Cox:                          False   Time:                         18:21:07\n",
              "Box-Cox Coeff.:                    None                                         \n",
              "=================================================================================\n",
              "                          coeff                 code              optimized      \n",
              "---------------------------------------------------------------------------------\n",
              "smoothing_level               0.6060714                alpha                 True\n",
              "smoothing_trend                  0.0001                 beta                 True\n",
              "smoothing_seasonal               0.0001                gamma                 True\n",
              "initial_level                 13552.648                  l.0                 True\n",
              "initial_trend                 1.0040575                  b.0                 True\n",
              "initial_seasons.0            -472.88437                  s.0                 True\n",
              "initial_seasons.1            -514.48750                  s.1                 True\n",
              "initial_seasons.2             1842.7062                  s.2                 True\n",
              "initial_seasons.3            -855.33437                  s.3                 True\n",
              "---------------------------------------------------------------------------------\n",
              "\"\"\""
            ]
          },
          "metadata": {},
          "execution_count": 30
        }
      ]
    },
    {
      "cell_type": "code",
      "metadata": {
        "colab": {
          "base_uri": "https://localhost:8080/"
        },
        "id": "n_hA6U7eL64U",
        "outputId": "51d72dc2-fe76-42b5-a514-e9a1fe951b2a"
      },
      "source": [
        "model_TES.fit(smoothing_level=0.60,smoothing_trend=0.0001, smoothing_seasonal=0.0001,optimized=True)"
      ],
      "execution_count": 32,
      "outputs": [
        {
          "output_type": "execute_result",
          "data": {
            "text/plain": [
              "<statsmodels.tsa.holtwinters.results.HoltWintersResultsWrapper at 0x7f84c15cd350>"
            ]
          },
          "metadata": {},
          "execution_count": 32
        }
      ]
    },
    {
      "cell_type": "code",
      "metadata": {
        "id": "ZwCSW51lMehA"
      },
      "source": [
        "TES_add_predict =model_tes.forecast(len(test))"
      ],
      "execution_count": 34,
      "outputs": []
    },
    {
      "cell_type": "code",
      "metadata": {
        "id": "G5Pvv2ljNPQM"
      },
      "source": [
        ""
      ],
      "execution_count": null,
      "outputs": []
    },
    {
      "cell_type": "code",
      "metadata": {
        "colab": {
          "base_uri": "https://localhost:8080/",
          "height": 265
        },
        "id": "SSudRVxRNPN4",
        "outputId": "d3c8ccc6-1dad-4ba2-cfff-1ef5bc45fb6c"
      },
      "source": [
        "import matplotlib.pyplot               as      plt\n",
        "plt.plot(train,label='Train')\n",
        "plt.plot(test,label='Test')\n",
        "plt.plot(TES_add_predict,label='TES Alpha=0.25, Beta=0.0, Gamma=0.74')\n",
        "plt.legend(loc='best')\n",
        "plt.grid()"
      ],
      "execution_count": 37,
      "outputs": [
        {
          "output_type": "display_data",
          "data": {
            "image/png": "[encoded data removed]",
            "text/plain": [
              "<Figure size 432x288 with 1 Axes>"
            ]
          },
          "metadata": {
            "needs_background": "light"
          }
        }
      ]
    },
    {
      "cell_type": "code",
      "metadata": {
        "id": "AFDq2GksNPKa"
      },
      "source": [
        ""
      ],
      "execution_count": null,
      "outputs": []
    },
    {
      "cell_type": "code",
      "metadata": {
        "id": "dVkWOY5HNPHJ"
      },
      "source": [
        ""
      ],
      "execution_count": null,
      "outputs": []
    },
    {
      "cell_type": "code",
      "metadata": {
        "id": "9R2QqOkKNPD2"
      },
      "source": [
        ""
      ],
      "execution_count": null,
      "outputs": []
    },
    {
      "cell_type": "code",
      "metadata": {
        "id": "_WKClBNTM4ZY"
      },
      "source": [
        ""
      ],
      "execution_count": null,
      "outputs": []
    }
  ]
}